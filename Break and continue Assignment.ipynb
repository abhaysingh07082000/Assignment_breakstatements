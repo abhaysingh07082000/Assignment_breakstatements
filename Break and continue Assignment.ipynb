{
 "cells": [
  {
   "cell_type": "markdown",
   "id": "b58a0703",
   "metadata": {},
   "source": [
    "# Q1 Write a program to print numbers from  to 0, 10 but stop if the number is 5."
   ]
  },
  {
   "cell_type": "code",
   "execution_count": 1,
   "id": "a494b08d",
   "metadata": {},
   "outputs": [
    {
     "name": "stdout",
     "output_type": "stream",
     "text": [
      "0\n",
      "1\n",
      "2\n",
      "3\n",
      "4\n"
     ]
    }
   ],
   "source": [
    "for i in range(10):\n",
    "    if i==5:\n",
    "        break\n",
    "    else:\n",
    "        print(i)"
   ]
  },
  {
   "cell_type": "markdown",
   "id": "1ac05369",
   "metadata": {},
   "source": [
    "# Q2 . Write a program to iterate through a list and stop when encountering a specific element."
   ]
  },
  {
   "cell_type": "code",
   "execution_count": 3,
   "id": "41a2547c",
   "metadata": {},
   "outputs": [],
   "source": [
    "list1=[4,5,6,5,8,1,2,12,15,13,19]"
   ]
  },
  {
   "cell_type": "code",
   "execution_count": 5,
   "id": "82cec552",
   "metadata": {},
   "outputs": [
    {
     "name": "stdout",
     "output_type": "stream",
     "text": [
      "4\n",
      "5\n",
      "6\n",
      "5\n",
      "8\n",
      "1\n",
      "2\n",
      "12\n",
      "15\n"
     ]
    }
   ],
   "source": [
    "for i in list1:\n",
    "    if i==13:\n",
    "        break\n",
    "        \n",
    "    else:\n",
    "        print(i)"
   ]
  },
  {
   "cell_type": "markdown",
   "id": "1f26a2d2",
   "metadata": {},
   "source": [
    "# Q3 Write a program to skip printing even numbers from  to 0 to 10."
   ]
  },
  {
   "cell_type": "code",
   "execution_count": 7,
   "id": "e38c5a68",
   "metadata": {},
   "outputs": [
    {
     "name": "stdout",
     "output_type": "stream",
     "text": [
      "1\n",
      "3\n",
      "5\n",
      "7\n",
      "9\n"
     ]
    }
   ],
   "source": [
    "for i in range(11):\n",
    "    if i%2==0:\n",
    "        continue\n",
    "    else:\n",
    "        print(i)"
   ]
  },
  {
   "cell_type": "markdown",
   "id": "d63730f3",
   "metadata": {},
   "source": [
    "# Q4  Write a program to print numbers from 0 to 9 using range."
   ]
  },
  {
   "cell_type": "code",
   "execution_count": 8,
   "id": "02accd88",
   "metadata": {},
   "outputs": [
    {
     "name": "stdout",
     "output_type": "stream",
     "text": [
      "0\n",
      "1\n",
      "2\n",
      "3\n",
      "4\n",
      "5\n",
      "6\n",
      "7\n",
      "8\n",
      "9\n"
     ]
    }
   ],
   "source": [
    "for i in range(10):\n",
    "    print(i)"
   ]
  },
  {
   "cell_type": "markdown",
   "id": "5ce506e8",
   "metadata": {},
   "source": [
    "# Q5 Write a program to print multiplication tables from   1 to 5, but stop after the first table is printed for each number."
   ]
  },
  {
   "cell_type": "code",
   "execution_count": 9,
   "id": "7aabdb59",
   "metadata": {},
   "outputs": [
    {
     "name": "stdout",
     "output_type": "stream",
     "text": [
      "1 X 1=1\n",
      "1 X 2=2\n",
      "1 X 3=3\n",
      "1 X 4=4\n",
      "1 X 5=5\n",
      "1 X 6=6\n",
      "1 X 7=7\n",
      "1 X 8=8\n",
      "1 X 9=9\n",
      "1 X 10=10\n",
      "\n",
      "\n",
      "2 X 1=2\n",
      "2 X 2=4\n",
      "2 X 3=6\n",
      "2 X 4=8\n",
      "2 X 5=10\n",
      "2 X 6=12\n",
      "2 X 7=14\n",
      "2 X 8=16\n",
      "2 X 9=18\n",
      "2 X 10=20\n",
      "\n",
      "\n",
      "3 X 1=3\n",
      "3 X 2=6\n",
      "3 X 3=9\n",
      "3 X 4=12\n",
      "3 X 5=15\n",
      "3 X 6=18\n",
      "3 X 7=21\n",
      "3 X 8=24\n",
      "3 X 9=27\n",
      "3 X 10=30\n",
      "\n",
      "\n",
      "4 X 1=4\n",
      "4 X 2=8\n",
      "4 X 3=12\n",
      "4 X 4=16\n",
      "4 X 5=20\n",
      "4 X 6=24\n",
      "4 X 7=28\n",
      "4 X 8=32\n",
      "4 X 9=36\n",
      "4 X 10=40\n",
      "\n",
      "\n",
      "5 X 1=5\n",
      "5 X 2=10\n",
      "5 X 3=15\n",
      "5 X 4=20\n",
      "5 X 5=25\n",
      "5 X 6=30\n",
      "5 X 7=35\n",
      "5 X 8=40\n",
      "5 X 9=45\n",
      "5 X 10=50\n",
      "\n",
      "\n"
     ]
    }
   ],
   "source": [
    "\n",
    "i=1\n",
    "j=1\n",
    "for i in range(1,5+1):\n",
    "    for j in range(1,11):\n",
    "        print(f\"{i} X {j}={i*j}\")\n",
    "        \n",
    "        \n",
    "    print(\"\\n\")"
   ]
  },
  {
   "cell_type": "markdown",
   "id": "7c7b2ba5",
   "metadata": {},
   "source": [
    "# Q6 Write a program to skip printing even numbers using a while loop."
   ]
  },
  {
   "cell_type": "code",
   "execution_count": 1,
   "id": "5897f92b",
   "metadata": {},
   "outputs": [
    {
     "name": "stdout",
     "output_type": "stream",
     "text": [
      "1\n",
      "3\n",
      "5\n",
      "7\n",
      "9\n",
      "11\n",
      "13\n",
      "15\n",
      "17\n",
      "19\n",
      "21\n",
      "23\n",
      "25\n",
      "27\n",
      "29\n",
      "31\n",
      "33\n",
      "35\n",
      "37\n",
      "39\n",
      "41\n",
      "43\n",
      "45\n",
      "47\n",
      "49\n"
     ]
    }
   ],
   "source": [
    "i = 0\n",
    "while i <= 50:\n",
    "    if i % 2 == 0:\n",
    "        i = i + 1\n",
    "        continue\n",
    "    else:\n",
    "        print(i)\n",
    "    i = i + 1\n"
   ]
  },
  {
   "cell_type": "code",
   "execution_count": null,
   "id": "32551896",
   "metadata": {},
   "outputs": [],
   "source": []
  },
  {
   "cell_type": "code",
   "execution_count": null,
   "id": "11e3964c",
   "metadata": {},
   "outputs": [],
   "source": []
  },
  {
   "cell_type": "code",
   "execution_count": null,
   "id": "ec13e505",
   "metadata": {},
   "outputs": [],
   "source": [
    "\n"
   ]
  }
 ],
 "metadata": {
  "kernelspec": {
   "display_name": "Python 3 (ipykernel)",
   "language": "python",
   "name": "python3"
  },
  "language_info": {
   "codemirror_mode": {
    "name": "ipython",
    "version": 3
   },
   "file_extension": ".py",
   "mimetype": "text/x-python",
   "name": "python",
   "nbconvert_exporter": "python",
   "pygments_lexer": "ipython3",
   "version": "3.11.5"
  }
 },
 "nbformat": 4,
 "nbformat_minor": 5
}
